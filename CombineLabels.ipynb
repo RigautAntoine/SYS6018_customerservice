{
 "cells": [
  {
   "cell_type": "code",
   "execution_count": null,
   "metadata": {
    "collapsed": true
   },
   "outputs": [],
   "source": [
    "# Before you use this file, please verify the working directory, origin of the source file and destination of the final file"
   ]
  },
  {
   "cell_type": "code",
   "execution_count": 70,
   "metadata": {
    "collapsed": false
   },
   "outputs": [],
   "source": [
    "import pandas as pd\n",
    "import numpy as np\n",
    "# Read in csv file with tweet text for manual annotation\n",
    "# Change the working directory. It works for both telecom and airlines of set2\n",
    "tweets = pd.read_csv(\"C:/UVA/DataMining/SYS6018_customerservice/labels/telecom_set2_combine.csv\", encoding = \"iso-8859-1\")"
   ]
  },
  {
   "cell_type": "code",
   "execution_count": 71,
   "metadata": {
    "collapsed": false
   },
   "outputs": [],
   "source": [
    "# Create empty column to store label data\n",
    "tweets[\"finalLabel\"] = np.nan"
   ]
  },
  {
   "cell_type": "code",
   "execution_count": 72,
   "metadata": {
    "collapsed": true
   },
   "outputs": [],
   "source": [
    "# Create function to take user input and assign it as a label\n",
    "def tweetLabel(n):\n",
    "    if tweets.loc[n, \"Label1\"] - tweets.loc[n, \"Label2\"] == 0:\n",
    "        tweets.loc[n, \"finalLabel\"] = tweets.loc[n, \"Label1\"]\n",
    "    else:\n",
    "        print(\"There is a disagreement on the following tweet of number \" + str(n) + \"\\n\" + \"\\n\" + tweets.text[n] + \"\\n\")\n",
    "        label = input(\"Is this a customer complaint? If yes, 1. Else, 0: \")\n",
    "        print(\"\\n\")\n",
    "        if label.lower() == \"1\" or label.lower() == \"0\":\n",
    "            tweets.loc[n,\"finalLabel\"] = label\n",
    "        else:\n",
    "            print(\"Please enter a valid label (1/0)\")\n",
    "            tweetLabel(n)"
   ]
  },
  {
   "cell_type": "code",
   "execution_count": null,
   "metadata": {
    "collapsed": false
   },
   "outputs": [
    {
     "name": "stdout",
     "output_type": "stream",
     "text": [
      "There is a disagreement on the following tweet of number 5\n",
      "\n",
      "R u kidding me ??? $20 activation fee for @verizon now ??? Definitely switching thinking about switching now\n",
      "\n",
      "Is this a customer complaint? If yes, 1. Else, 0: 1\n",
      "\n",
      "\n",
      "There is a disagreement on the following tweet of number 11\n",
      "\n",
      "@ATTCares @SamsungSupport also, the device MUST be covered by att. IT has att logo. You guys need to cover it so as @SamsungSupport\n",
      "\n",
      "Is this a customer complaint? If yes, 1. Else, 0: 1\n",
      "\n",
      "\n",
      "There is a disagreement on the following tweet of number 14\n",
      "\n",
      "Normally when garbage @comcast dies I'm not too upset until I realize the only thing between my clients &amp; I is the sketchy @ATT network #4G\n",
      "\n",
      "Is this a customer complaint? If yes, 1. Else, 0: 0\n",
      "\n",
      "\n",
      "There is a disagreement on the following tweet of number 24\n",
      "\n",
      "@VZWSupport David Small Executive Vice President is aware of this and had the audacity to deny us the letter. CEO please help us! @NBCNews\n",
      "\n",
      "Is this a customer complaint? If yes, 1. Else, 0: 1\n",
      "\n",
      "\n",
      "There is a disagreement on the following tweet of number 28\n",
      "\n",
      "@GopherHockey @Comcast isn't showing anything on channel 999. #hockeybroadcastfail\n",
      "\n"
     ]
    }
   ],
   "source": [
    "# Loop through tweets and present them to the user for labeling\n",
    "for i in range(0,len(tweets.Label1)):\n",
    "    tweetLabel(i)"
   ]
  },
  {
   "cell_type": "code",
   "execution_count": null,
   "metadata": {
    "collapsed": false
   },
   "outputs": [],
   "source": [
    "tweets.head()"
   ]
  },
  {
   "cell_type": "code",
   "execution_count": null,
   "metadata": {
    "collapsed": true
   },
   "outputs": [],
   "source": [
    "tweets.tail"
   ]
  },
  {
   "cell_type": "code",
   "execution_count": 67,
   "metadata": {
    "collapsed": true
   },
   "outputs": [],
   "source": [
    "# Keep final labels\n",
    "tweets = tweets[['created_at', 'text', 'finalLabel']]"
   ]
  },
  {
   "cell_type": "code",
   "execution_count": 69,
   "metadata": {
    "collapsed": false
   },
   "outputs": [],
   "source": [
    "# Save data frame to new csv file\n",
    "# Be careful to save outside of the Github folder in order to avoid accidental overwrite\n",
    "tweets.to_csv(\"C:/UVA/DataMining/SYS6018_customerservice/labels/telecom_set2_finalLabels.csv\", index=False)"
   ]
  },
  {
   "cell_type": "code",
   "execution_count": null,
   "metadata": {
    "collapsed": true
   },
   "outputs": [],
   "source": []
  }
 ],
 "metadata": {
  "kernelspec": {
   "display_name": "Python 3",
   "language": "python",
   "name": "python3"
  },
  "language_info": {
   "codemirror_mode": {
    "name": "ipython",
    "version": 3
   },
   "file_extension": ".py",
   "mimetype": "text/x-python",
   "name": "python",
   "nbconvert_exporter": "python",
   "pygments_lexer": "ipython3",
   "version": "3.4.3"
  }
 },
 "nbformat": 4,
 "nbformat_minor": 0
}
