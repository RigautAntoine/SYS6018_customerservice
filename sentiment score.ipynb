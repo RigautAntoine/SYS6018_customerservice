{
 "cells": [
  {
   "cell_type": "code",
   "execution_count": 18,
   "metadata": {
    "collapsed": false
   },
   "outputs": [],
   "source": [
    "import nltk"
   ]
  },
  {
   "cell_type": "code",
   "execution_count": 19,
   "metadata": {
    "collapsed": true
   },
   "outputs": [],
   "source": [
    "def swn(textlist):\n",
    "    \"\"\"\n",
    "    given list of words, return a list of the sentiment value of each word\n",
    "    \"\"\"\n",
    "    from nltk.corpus import sentiwordnet\n",
    "\n",
    "    # first tag all the words with appropriate pos\n",
    "    poslist = nltk.pos_tag(textlist)\n",
    "    swnvalues = list()\n",
    "    for w in poslist:\n",
    "        postagged = 0\n",
    "        if 'NN' in w[1]:\n",
    "            word = list(sentiwordnet.senti_synsets(w[0],'n'))\n",
    "        elif 'JJ' in w[1]:\n",
    "            word = list(sentiwordnet.senti_synsets(w[0],'a'))\n",
    "        elif 'RB' in w[1]:\n",
    "            word = list(sentiwordnet.senti_synsets(w[0],'r'))\n",
    "        elif 'VB' in w[1]:\n",
    "            word = list(sentiwordnet.senti_synsets(w[0],'v'))\n",
    "        else:\n",
    "            postagged = 1\n",
    "\n",
    "        # then calculate the value of each word\n",
    "        try:\n",
    "            if postagged == 0:\n",
    "                value = word[0].pos_score() - word[0].neg_score()\n",
    "            else:\n",
    "                value = 0\n",
    "\n",
    "        except:\n",
    "            continue\n",
    "        # store the value for this word\n",
    "        swnvalues.append((w[0],value))\n",
    "\n",
    "    return swnvalues\n",
    "\n",
    "\n",
    "def swnsum(swnlist):\n",
    "    \"\"\"\n",
    "    given list of (word,swnvalues), return the normalized swn value of the text\n",
    "\n",
    "    a positive value means more good things are said than bad things\n",
    "    a negative value means more bad than good\n",
    "    each company's reviews can be compared with other review set values\n",
    "    \"\"\"\n",
    "    swnsum = 0.0\n",
    "    for i in swnlist:\n",
    "        swnsum = swnsum + i[1]\n",
    "\n",
    "    return (swnsum / len(swnlist))"
   ]
  },
  {
   "cell_type": "code",
   "execution_count": 20,
   "metadata": {
    "collapsed": true
   },
   "outputs": [],
   "source": [
    "sentimentScores = []\n",
    "import pandas as pd\n",
    "data=pd.read_csv(\"C:\\\\Users\\\\dream_000\\\\Desktop\\\\SYS 6018 Machine Learning (R)\\\\final project\\\\telecom_set2.csv\",encoding=\"ISO-8859-1\")\n",
    "text=data.text\n",
    "text=pd.DataFrame(text)\n",
    "\n",
    "text.to_csv('telecom_set2_text_only.csv')"
   ]
  },
  {
   "cell_type": "code",
   "execution_count": 21,
   "metadata": {
    "collapsed": false
   },
   "outputs": [],
   "source": [
    "sentimentScores = []\n",
    "with open('C:\\\\Users\\\\dream_000\\\\Desktop\\\\SYS 6018 Machine Learning (R)\\\\final project\\\\telecom_set2_text_only.csv') as f:\n",
    "    for line in f:\n",
    "        tokens = line.split()\n",
    "        stopwords = nltk.corpus.stopwords.words('english')\n",
    "        parsed = [w.lower() for w in tokens if w.isalpha()]\n",
    "        parsed = [w for w in parsed if w not in stopwords]\n",
    "        poslist = nltk.pos_tag(parsed)\n",
    "        for i in range(len(poslist)):\n",
    "            if 'VB' in poslist[i][1]:\n",
    "                poslist[i] = (nltk.stem.WordNetLemmatizer().lemmatize(poslist[i][0], 'v'),'VB')\n",
    "            parsed[i] = poslist[i][0]\n",
    "        #textlist = analtext.parser()\n",
    "        swnlist = swn(parsed)\n",
    "        #value = swnsum(swnlist)\n",
    "        swnsum = 0.0\n",
    "        for i in swnlist:\n",
    "            swnsum = swnsum + i[1]\n",
    "        #sentimentScores.append(swnsum / len(swnlist))\n",
    "        if len(swnlist) == 0:\n",
    "            continue\n",
    "        else:\n",
    "            value = swnsum /len(swnlist)\n",
    "            sentimentScores.append(value)\n",
    "        #print('Senti-wordnet value: %.7f' % (value * 100))\n"
   ]
  },
  {
   "cell_type": "code",
   "execution_count": 22,
   "metadata": {
    "collapsed": false
   },
   "outputs": [],
   "source": [
    "s = pd.Series(sentimentScores)\n",
    "\n",
    "result = pd.concat([data, s], axis=1)\n",
    "result\n",
    "result.to_csv('telecom_set2_result.csv')"
   ]
  }
 ],
 "metadata": {
  "kernelspec": {
   "display_name": "Python 3",
   "language": "python",
   "name": "python3"
  },
  "language_info": {
   "codemirror_mode": {
    "name": "ipython",
    "version": 3
   },
   "file_extension": ".py",
   "mimetype": "text/x-python",
   "name": "python",
   "nbconvert_exporter": "python",
   "pygments_lexer": "ipython3",
   "version": "3.4.3"
  }
 },
 "nbformat": 4,
 "nbformat_minor": 0
}
